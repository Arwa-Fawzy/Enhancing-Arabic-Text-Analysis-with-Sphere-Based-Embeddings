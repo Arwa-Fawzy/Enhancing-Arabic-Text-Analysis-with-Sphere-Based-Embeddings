{
 "cells": [
  {
   "cell_type": "code",
   "execution_count": 1,
   "metadata": {},
   "outputs": [],
   "source": [
    "import re\n",
    "from camel_tools.utils.normalize import normalize_alef_maksura_ar, normalize_teh_marbuta_ar\n",
    "from camel_tools.tokenizers.word import simple_word_tokenize"
   ]
  },
  {
   "cell_type": "code",
   "execution_count": 4,
   "metadata": {},
   "outputs": [],
   "source": [
    "input_file_path = r'G:\\CS\\arwa-research\\nlp\\part_0.txt'\n",
    "output_file_path = r'G:\\CS\\arwa-research\\nlp\\part_0_output.txt'\n",
    "\n",
    "# Cleaning the data from symbols of XML\n",
    "def remove_xml_tags(text):\n",
    "    clean_text = re.sub(r'<[^>]+>', '', text)  # إزالة العلامات\n",
    "    return clean_text"
   ]
  },
  {
   "cell_type": "code",
   "execution_count": 5,
   "metadata": {},
   "outputs": [],
   "source": [
    "# Reading the file \n",
    "with open(input_file_path, 'r', encoding='utf-8') as file:\n",
    "    content = file.read()"
   ]
  },
  {
   "cell_type": "code",
   "execution_count": 6,
   "metadata": {},
   "outputs": [],
   "source": [
    "\n",
    "# Removing XML Symbols \n",
    "clean_content = remove_xml_tags(content)"
   ]
  },
  {
   "cell_type": "code",
   "execution_count": 7,
   "metadata": {},
   "outputs": [],
   "source": [
    "# Normalizing the Text\n",
    "normalized_content = normalize_alef_maksura_ar(normalize_teh_marbuta_ar(clean_content))"
   ]
  },
  {
   "cell_type": "code",
   "execution_count": null,
   "metadata": {},
   "outputs": [],
   "source": [
    "\n",
    "# Tokenizing the text \n",
    "tokens = simple_word_tokenize(normalized_content)\n",
    "\n",
    "#Converting the list of words into text again\n",
    "tokenized_content = ' '.join(tokens)"
   ]
  },
  {
   "cell_type": "code",
   "execution_count": null,
   "metadata": {},
   "outputs": [],
   "source": [
    "\n",
    "# Saving the output\n",
    "with open(output_file_path, 'w', encoding='utf-8') as output_file:\n",
    "    output_file.write(tokenized_content)\n",
    "\n",
    "print(f'The normalized and tokenized content has been saved to {output_file_path}')"
   ]
  },
  {
   "cell_type": "code",
   "execution_count": null,
   "metadata": {},
   "outputs": [],
   "source": []
  }
 ],
 "metadata": {
  "kernelspec": {
   "display_name": "Python 3",
   "language": "python",
   "name": "python3"
  },
  "language_info": {
   "codemirror_mode": {
    "name": "ipython",
    "version": 3
   },
   "file_extension": ".py",
   "mimetype": "text/x-python",
   "name": "python",
   "nbconvert_exporter": "python",
   "pygments_lexer": "ipython3",
   "version": "3.7.2"
  }
 },
 "nbformat": 4,
 "nbformat_minor": 2
}
